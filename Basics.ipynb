{
 "cells": [
  {
   "cell_type": "code",
   "execution_count": 3,
   "metadata": {},
   "outputs": [
    {
     "name": "stdout",
     "output_type": "stream",
     "text": [
      "[['', 'year', 'month', 'intent', 'police', 'sex', 'age', 'race', 'hispanic', 'place', 'education'], ['1', '2012', '01', 'Suicide', '0', 'M', '34', 'Asian/Pacific Islander', '100', 'Home', '4'], ['2', '2012', '01', 'Suicide', '0', 'F', '21', 'White', '100', 'Street', '3'], ['3', '2012', '01', 'Suicide', '0', 'M', '60', 'White', '100', 'Other specified', '4'], ['4', '2012', '02', 'Suicide', '0', 'M', '64', 'White', '100', 'Home', '4']]\n"
     ]
    }
   ],
   "source": [
    "import csv\n",
    "\n",
    "raw_file = open(\"guns.csv\", \"r\")\n",
    "data = list(csv.reader(raw_file))\n",
    "\n",
    "print(data[0:5])"
   ]
  },
  {
   "cell_type": "code",
   "execution_count": 4,
   "metadata": {},
   "outputs": [
    {
     "name": "stdout",
     "output_type": "stream",
     "text": [
      "['', 'year', 'month', 'intent', 'police', 'sex', 'age', 'race', 'hispanic', 'place', 'education']\n",
      "[['1', '2012', '01', 'Suicide', '0', 'M', '34', 'Asian/Pacific Islander', '100', 'Home', '4'], ['2', '2012', '01', 'Suicide', '0', 'F', '21', 'White', '100', 'Street', '3'], ['3', '2012', '01', 'Suicide', '0', 'M', '60', 'White', '100', 'Other specified', '4'], ['4', '2012', '02', 'Suicide', '0', 'M', '64', 'White', '100', 'Home', '4'], ['5', '2012', '02', 'Suicide', '0', 'M', '31', 'White', '100', 'Other specified', '2']]\n"
     ]
    }
   ],
   "source": [
    "headers = data[0]\n",
    "\n",
    "data = data[1:]\n",
    "\n",
    "print(headers)\n",
    "print(data[0:5])"
   ]
  },
  {
   "cell_type": "code",
   "execution_count": 5,
   "metadata": {},
   "outputs": [
    {
     "name": "stdout",
     "output_type": "stream",
     "text": [
      "{'2012': 33563, '2013': 33636, '2014': 33599}\n"
     ]
    }
   ],
   "source": [
    "years = [d[1] for d in data]\n",
    "\n",
    "year_counts = {}\n",
    "\n",
    "for y in years:\n",
    "    if y in year_counts:\n",
    "        year_counts[y] += 1\n",
    "    else:\n",
    "        year_counts[y] = 1\n",
    "        \n",
    "print(year_counts)"
   ]
  },
  {
   "cell_type": "code",
   "execution_count": 6,
   "metadata": {},
   "outputs": [
    {
     "name": "stdout",
     "output_type": "stream",
     "text": [
      "[datetime.datetime(2012, 1, 1, 0, 0), datetime.datetime(2012, 1, 1, 0, 0), datetime.datetime(2012, 1, 1, 0, 0), datetime.datetime(2012, 2, 1, 0, 0), datetime.datetime(2012, 2, 1, 0, 0)]\n"
     ]
    }
   ],
   "source": [
    "import datetime\n",
    "\n",
    "dates = []\n",
    "for row in data:\n",
    "    date = datetime.datetime(int(row[1]), int(row[2]), day= 1)\n",
    "    dates.append(date)\n",
    "print(dates[0:5])\n",
    "\n"
   ]
  },
  {
   "cell_type": "code",
   "execution_count": 7,
   "metadata": {},
   "outputs": [
    {
     "data": {
      "text/plain": [
       "{datetime.datetime(2012, 1, 1, 0, 0): 2758,\n",
       " datetime.datetime(2012, 2, 1, 0, 0): 2357,\n",
       " datetime.datetime(2012, 3, 1, 0, 0): 2743,\n",
       " datetime.datetime(2012, 4, 1, 0, 0): 2795,\n",
       " datetime.datetime(2012, 5, 1, 0, 0): 2999,\n",
       " datetime.datetime(2012, 6, 1, 0, 0): 2826,\n",
       " datetime.datetime(2012, 7, 1, 0, 0): 3026,\n",
       " datetime.datetime(2012, 8, 1, 0, 0): 2954,\n",
       " datetime.datetime(2012, 9, 1, 0, 0): 2852,\n",
       " datetime.datetime(2012, 10, 1, 0, 0): 2733,\n",
       " datetime.datetime(2012, 11, 1, 0, 0): 2729,\n",
       " datetime.datetime(2012, 12, 1, 0, 0): 2791,\n",
       " datetime.datetime(2013, 1, 1, 0, 0): 2864,\n",
       " datetime.datetime(2013, 2, 1, 0, 0): 2375,\n",
       " datetime.datetime(2013, 3, 1, 0, 0): 2862,\n",
       " datetime.datetime(2013, 4, 1, 0, 0): 2798,\n",
       " datetime.datetime(2013, 5, 1, 0, 0): 2806,\n",
       " datetime.datetime(2013, 6, 1, 0, 0): 2920,\n",
       " datetime.datetime(2013, 7, 1, 0, 0): 3079,\n",
       " datetime.datetime(2013, 8, 1, 0, 0): 2859,\n",
       " datetime.datetime(2013, 9, 1, 0, 0): 2742,\n",
       " datetime.datetime(2013, 10, 1, 0, 0): 2808,\n",
       " datetime.datetime(2013, 11, 1, 0, 0): 2758,\n",
       " datetime.datetime(2013, 12, 1, 0, 0): 2765,\n",
       " datetime.datetime(2014, 1, 1, 0, 0): 2651,\n",
       " datetime.datetime(2014, 2, 1, 0, 0): 2361,\n",
       " datetime.datetime(2014, 3, 1, 0, 0): 2684,\n",
       " datetime.datetime(2014, 4, 1, 0, 0): 2862,\n",
       " datetime.datetime(2014, 5, 1, 0, 0): 2864,\n",
       " datetime.datetime(2014, 6, 1, 0, 0): 2931,\n",
       " datetime.datetime(2014, 7, 1, 0, 0): 2884,\n",
       " datetime.datetime(2014, 8, 1, 0, 0): 2970,\n",
       " datetime.datetime(2014, 9, 1, 0, 0): 2914,\n",
       " datetime.datetime(2014, 10, 1, 0, 0): 2865,\n",
       " datetime.datetime(2014, 11, 1, 0, 0): 2756,\n",
       " datetime.datetime(2014, 12, 1, 0, 0): 2857}"
      ]
     },
     "execution_count": 7,
     "metadata": {},
     "output_type": "execute_result"
    }
   ],
   "source": [
    "date_counts = {}\n",
    "for date in dates:\n",
    "    if date not in date_counts:\n",
    "        date_counts[date] = 0\n",
    "    date_counts[date] += 1\n",
    "    \n",
    "date_counts"
   ]
  },
  {
   "cell_type": "code",
   "execution_count": 8,
   "metadata": {},
   "outputs": [
    {
     "data": {
      "text/plain": [
       "{'Asian/Pacific Islander': 1326,\n",
       " 'Black': 23296,\n",
       " 'Hispanic': 9022,\n",
       " 'Native American/Native Alaskan': 917,\n",
       " 'White': 66237}"
      ]
     },
     "execution_count": 8,
     "metadata": {},
     "output_type": "execute_result"
    }
   ],
   "source": [
    "\n",
    "def get_counts_of_specific_column(data, col_num):\n",
    "    ret_list = {}\n",
    "    gathered_specific_data = [row[col_num] for row in data]\n",
    "    for g in gathered_specific_data:\n",
    "        if g not in ret_list:\n",
    "            ret_list[g] = 0\n",
    "        ret_list[g] += 1\n",
    "    return ret_list\n",
    "\n",
    "sex_counts = get_counts_of_specific_column(data, 5)\n",
    "race_counts = get_counts_of_specific_column(data, 7)\n",
    "\n",
    "sex_counts\n",
    "race_counts"
   ]
  },
  {
   "cell_type": "markdown",
   "metadata": {},
   "source": [
    "# TO CHECK:\n",
    "## 1: try\\except valid data"
   ]
  },
  {
   "cell_type": "code",
   "execution_count": 9,
   "metadata": {},
   "outputs": [
    {
     "data": {
      "text/plain": [
       "[['Id',\n",
       "  'Year',\n",
       "  'Id',\n",
       "  'Sex',\n",
       "  'Id',\n",
       "  'Hispanic Origin',\n",
       "  'Id',\n",
       "  'Id2',\n",
       "  'Geography',\n",
       "  'Total',\n",
       "  'Race Alone - White',\n",
       "  'Race Alone - Hispanic',\n",
       "  'Race Alone - Black or African American',\n",
       "  'Race Alone - American Indian and Alaska Native',\n",
       "  'Race Alone - Asian',\n",
       "  'Race Alone - Native Hawaiian and Other Pacific Islander',\n",
       "  'Two or More Races'],\n",
       " ['cen42010',\n",
       "  'April 1, 2010 Census',\n",
       "  'totsex',\n",
       "  'Both Sexes',\n",
       "  'tothisp',\n",
       "  'Total',\n",
       "  '0100000US',\n",
       "  '',\n",
       "  'United States',\n",
       "  '308745538',\n",
       "  '197318956',\n",
       "  '44618105',\n",
       "  '40250635',\n",
       "  '3739506',\n",
       "  '15159516',\n",
       "  '674625',\n",
       "  '6984195']]"
      ]
     },
     "execution_count": 9,
     "metadata": {},
     "output_type": "execute_result"
    }
   ],
   "source": [
    "import csv\n",
    "\n",
    "census = list(csv.reader(open(\"census.csv\",\"r\")))\n",
    "\n",
    "census"
   ]
  },
  {
   "cell_type": "code",
   "execution_count": 10,
   "metadata": {},
   "outputs": [
    {
     "data": {
      "text/plain": [
       "{'Asian/Pacific Islander': 8.374309664161762,\n",
       " 'Black': 57.8773477735196,\n",
       " 'Hispanic': 20.220491210910907,\n",
       " 'Native American/Native Alaskan': 24.521955573811088,\n",
       " 'White': 33.56849303419181}"
      ]
     },
     "execution_count": 10,
     "metadata": {},
     "output_type": "execute_result"
    }
   ],
   "source": [
    "\n",
    "mapping = {\n",
    "    \"Asian/Pacific Islander\": 15159516 + 674625,\n",
    "    \"Native American/Native Alaskan\": 3739506,\n",
    "    \"Black\": 40250635,\n",
    "    \"Hispanic\": 44618105,\n",
    "    \"White\": 197318956\n",
    "}\n",
    "\n",
    "\n",
    "\n",
    "race_per_hundredk = {}\n",
    "\n",
    "for key in race_counts:\n",
    "    race_per_hundredk[key] = race_counts[key] / mapping[key] * 100000\n",
    "    \n",
    "race_per_hundredk"
   ]
  },
  {
   "cell_type": "code",
   "execution_count": 12,
   "metadata": {},
   "outputs": [
    {
     "data": {
      "text/plain": [
       "{'Asian/Pacific Islander': 3.530346230970155,\n",
       " 'Black': 48.471284987180944,\n",
       " 'Hispanic': 12.627161104219914,\n",
       " 'Native American/Native Alaskan': 8.717729026240365,\n",
       " 'White': 4.6356417981453335}"
      ]
     },
     "execution_count": 12,
     "metadata": {},
     "output_type": "execute_result"
    }
   ],
   "source": [
    "intents = [row[3] for row in data]\n",
    "races = [row[7] for row in data]\n",
    "\n",
    "homicide_race_per_hundredk = {}\n",
    "\n",
    "for i, r in enumerate(races):\n",
    "    if intents[i] == \"Homicide\":\n",
    "        if r not in homicide_race_per_hundredk:\n",
    "            homicide_race_per_hundredk[r] = 0\n",
    "        homicide_race_per_hundredk[r] += 1\n",
    "        \n",
    "for key in homicide_race_per_hundredk:\n",
    "    homicide_race_per_hundredk[key] = homicide_race_per_hundredk[key] / mapping[key] * 100000\n",
    "    \n",
    "homicide_race_per_hundredk"
   ]
  },
  {
   "cell_type": "markdown",
   "metadata": {},
   "source": [
    "# Figure out the link, if any, between month and homicide rate."
   ]
  },
  {
   "cell_type": "code",
   "execution_count": 16,
   "metadata": {},
   "outputs": [
    {
     "data": {
      "text/plain": [
       "{'01': 0.9374958276216315,\n",
       " '02': 0.721762429324819,\n",
       " '03': 0.9212578299003661,\n",
       " '04': 0.9427980309591875,\n",
       " '05': 0.9862098207854278,\n",
       " '06': 1.037243527909405,\n",
       " '07': 1.083306419404423,\n",
       " '08': 1.0355865893664187,\n",
       " '09': 0.9828959436994553,\n",
       " '10': 0.9835587191166497,\n",
       " '11': 0.9673207213953843,\n",
       " '12': 1.0574581781338372}"
      ]
     },
     "execution_count": 16,
     "metadata": {},
     "output_type": "execute_result"
    }
   ],
   "source": [
    "months = [row[2] for row in data]\n",
    "\n",
    "homicide_mon_per_hundredk = {}\n",
    "\n",
    "for i, r in enumerate(months):\n",
    "    if intents[i] == \"Homicide\":\n",
    "        if r not in homicide_mon_per_hundredk:\n",
    "            homicide_mon_per_hundredk[r] = 0\n",
    "        homicide_mon_per_hundredk[r] += 1\n",
    "\n",
    "total_people_count = sum([mapping[k] for k in mapping])\n",
    "for key in homicide_mon_per_hundredk:\n",
    "    homicide_mon_per_hundredk[key] = homicide_mon_per_hundredk[key] / total_people_count * 100000\n",
    "    \n",
    "homicide_mon_per_hundredk"
   ]
  },
  {
   "cell_type": "markdown",
   "metadata": {},
   "source": [
    "# Explore the homicide rate by gender."
   ]
  },
  {
   "cell_type": "code",
   "execution_count": 17,
   "metadata": {},
   "outputs": [
    {
     "name": "stdout",
     "output_type": "stream",
     "text": [
      "{'2012': 4.007471560066592, '2013': 3.8686201101643425, '2014': 3.7808023673860705}\n",
      "{'03': 0.9212578299003661, '04': 0.9427980309591875, '06': 1.037243527909405, '07': 1.083306419404423, '08': 1.0355865893664187, '09': 0.9828959436994553, '10': 0.9835587191166497, '12': 1.0574581781338372, '01': 0.9374958276216315, '02': 0.721762429324819, '05': 0.9862098207854278, '11': 0.9673207213953843}\n",
      "{'M': 9.87634787932396, 'F': 1.7805461582930453}\n",
      "{'White': 3.0312033705390817, 'Asian/Pacific Islander': 0.18524572910586495, 'Black': 6.465374194732425, 'Native American/Native Alaskan': 0.1080323930027048, 'Hispanic': 1.8670383502369288}\n"
     ]
    }
   ],
   "source": [
    "def calc_homicide_rate(column_idx):\n",
    "    atrribute_data = [row[column_idx] for row in data]\n",
    "    ret_dic = {}\n",
    "    \n",
    "    for i, r in enumerate(atrribute_data):\n",
    "        if intents[i] == \"Homicide\":\n",
    "            if r not in ret_dic:\n",
    "                ret_dic[r] = 0\n",
    "            ret_dic[r] += 1\n",
    "            \n",
    "    for key in ret_dic:\n",
    "        ret_dic[key] = ret_dic[key] / total_people_count * 100000\n",
    "        \n",
    "    return ret_dic;\n",
    "\n",
    "homicide_rate_year = calc_homicide_rate(1)\n",
    "homicide_rate_mon = calc_homicide_rate(2)\n",
    "homicide_rate_gender = calc_homicide_rate(5)\n",
    "homicide_rate_race = calc_homicide_rate(7)\n",
    "\n",
    "print(homicide_rate_year)\n",
    "print(homicide_rate_mon)\n",
    "print(homicide_rate_gender)\n",
    "print(homicide_rate_race)"
   ]
  },
  {
   "cell_type": "markdown",
   "metadata": {},
   "source": [
    "# Explore the rates of other intents, like Accidental, by gender and race."
   ]
  },
  {
   "cell_type": "code",
   "execution_count": 19,
   "metadata": {},
   "outputs": [
    {
     "name": "stdout",
     "output_type": "stream",
     "text": [
      "{'M': 0.47090193391669793, 'F': 0.07224252047420136}\n",
      "{'White': 0.3751308861320915, 'Black': 0.1086951684198993, 'Hispanic': 0.04805121774660183, 'Asian/Pacific Islander': 0.003976652503167048, 'Native American/Native Alaskan': 0.007290529589139587}\n"
     ]
    }
   ],
   "source": [
    "def calc_specific_intent_rate(column_idx, intent_string):\n",
    "    atrribute_data = [row[column_idx] for row in data]\n",
    "    target_intent =  intent_string\n",
    "    ret_dic = {}\n",
    "    \n",
    "    for i, r in enumerate(atrribute_data):\n",
    "        if intents[i] == target_intent:\n",
    "            if r not in ret_dic:\n",
    "                ret_dic[r] = 0\n",
    "            ret_dic[r] += 1\n",
    "            \n",
    "    for key in ret_dic:\n",
    "        ret_dic[key] = ret_dic[key] / total_people_count * 100000\n",
    "        \n",
    "    return ret_dic;\n",
    "\n",
    "accidental_rate_gender = calc_specific_intent_rate(5, \"Accidental\")\n",
    "accidental_rate_race = calc_specific_intent_rate(7, \"Accidental\")\n",
    "\n",
    "print(accidental_rate_gender)\n",
    "print(accidental_rate_race)"
   ]
  },
  {
   "cell_type": "markdown",
   "metadata": {},
   "source": [
    "# Find out if gun death rates correlate to location and education."
   ]
  }
 ],
 "metadata": {
  "kernelspec": {
   "display_name": "Python 3",
   "language": "python",
   "name": "python3"
  },
  "language_info": {
   "codemirror_mode": {
    "name": "ipython",
    "version": 3
   },
   "file_extension": ".py",
   "mimetype": "text/x-python",
   "name": "python",
   "nbconvert_exporter": "python",
   "pygments_lexer": "ipython3",
   "version": "3.6.1"
  }
 },
 "nbformat": 4,
 "nbformat_minor": 1
}
