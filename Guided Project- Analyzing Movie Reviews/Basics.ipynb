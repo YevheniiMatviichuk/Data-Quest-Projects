{
 "cells": [
  {
   "cell_type": "code",
   "execution_count": 1,
   "metadata": {
    "collapsed": true
   },
   "outputs": [
    {
     "name": "stdout",
     "output_type": "stream",
     "text": [
      "                                               FILM  RottenTomatoes  \\\n",
      "0                    Avengers: Age of Ultron (2015)              74   \n",
      "1                                 Cinderella (2015)              85   \n",
      "2                                    Ant-Man (2015)              80   \n",
      "3                            Do You Believe? (2015)              18   \n",
      "4                     Hot Tub Time Machine 2 (2015)              14   \n",
      "5                          The Water Diviner (2015)              63   \n",
      "6                             Irrational Man (2015)              42   \n",
      "7                                   Top Five (2014)              86   \n",
      "8                      Shaun the Sheep Movie (2015)              99   \n",
      "9                               Love & Mercy (2015)              89   \n",
      "10                Far From The Madding Crowd (2015)              84   \n",
      "11                                 Black Sea (2015)              82   \n",
      "12                                 Leviathan (2014)              99   \n",
      "13                                  Unbroken (2014)              51   \n",
      "14                        The Imitation Game (2014)              90   \n",
      "15                                   Taken 3 (2015)               9   \n",
      "16                                     Ted 2 (2015)              46   \n",
      "17                                  Southpaw (2015)              59   \n",
      "18   Night at the Museum: Secret of the Tomb (2014)              50   \n",
      "19                                    Pixels (2015)              17   \n",
      "20                            McFarland, USA (2015)              79   \n",
      "21                      Insidious: Chapter 3 (2015)              59   \n",
      "22                   The Man From U.N.C.L.E. (2015)              68   \n",
      "23                             Run All Night (2015)              60   \n",
      "24                                Trainwreck (2015)              85   \n",
      "25                                     Selma (2014)              99   \n",
      "26                                Ex Machina (2015)              92   \n",
      "27                               Still Alice (2015)              88   \n",
      "28                                Wild Tales (2014)              96   \n",
      "29                       The End of the Tour (2015)              92   \n",
      "..                                              ...             ...   \n",
      "116                     Clouds of Sils Maria (2015)              89   \n",
      "117                       Testament of Youth (2015)              81   \n",
      "118                    Infinitely Polar Bear (2015)              80   \n",
      "119                                  Phoenix (2015)              99   \n",
      "120                             The Wolfpack (2015)              84   \n",
      "121           The Stanford Prison Experiment (2015)              84   \n",
      "122                                Tangerine (2015)              95   \n",
      "123                           Magic Mike XXL (2015)              62   \n",
      "124                                     Home (2015)              45   \n",
      "125                       The Wedding Ringer (2015)              27   \n",
      "126                            Woman in Gold (2015)              52   \n",
      "127                      The Last Five Years (2015)              60   \n",
      "128     Mission: Impossible â€“ Rogue Nation (2015)              92   \n",
      "129                                      Amy (2015)              97   \n",
      "130                           Jurassic World (2015)              71   \n",
      "131                                  Minions (2015)              54   \n",
      "132                                      Max (2015)              35   \n",
      "133                   Paul Blart: Mall Cop 2 (2015)               5   \n",
      "134                         The Longest Ride (2015)              31   \n",
      "135                       The Lazarus Effect (2015)              14   \n",
      "136      The Woman In Black 2 Angel of Death (2015)              22   \n",
      "137                            Danny Collins (2015)              77   \n",
      "138                              Spare Parts (2015)              52   \n",
      "139                                   Serena (2015)              18   \n",
      "140                               Inside Out (2015)              98   \n",
      "141                               Mr. Holmes (2015)              87   \n",
      "142                                      '71 (2015)              97   \n",
      "143                      Two Days, One Night (2014)              97   \n",
      "144       Gett: The Trial of Viviane Amsalem (2015)             100   \n",
      "145              Kumiko, The Treasure Hunter (2015)              87   \n",
      "\n",
      "     RottenTomatoes_User  Metacritic  Metacritic_User  IMDB  Fandango_Stars  \\\n",
      "0                     86          66              7.1   7.8             5.0   \n",
      "1                     80          67              7.5   7.1             5.0   \n",
      "2                     90          64              8.1   7.8             5.0   \n",
      "3                     84          22              4.7   5.4             5.0   \n",
      "4                     28          29              3.4   5.1             3.5   \n",
      "5                     62          50              6.8   7.2             4.5   \n",
      "6                     53          53              7.6   6.9             4.0   \n",
      "7                     64          81              6.8   6.5             4.0   \n",
      "8                     82          81              8.8   7.4             4.5   \n",
      "9                     87          80              8.5   7.8             4.5   \n",
      "10                    77          71              7.5   7.2             4.5   \n",
      "11                    60          62              6.6   6.4             4.0   \n",
      "12                    79          92              7.2   7.7             4.0   \n",
      "13                    70          59              6.5   7.2             4.5   \n",
      "14                    92          73              8.2   8.1             5.0   \n",
      "15                    46          26              4.6   6.1             4.5   \n",
      "16                    58          48              6.5   6.6             4.5   \n",
      "17                    80          57              8.2   7.8             5.0   \n",
      "18                    58          47              5.8   6.3             4.5   \n",
      "19                    54          27              5.3   5.6             4.5   \n",
      "20                    89          60              7.2   7.5             5.0   \n",
      "21                    56          52              6.9   6.3             4.5   \n",
      "22                    80          55              7.9   7.6             4.5   \n",
      "23                    59          59              7.3   6.6             4.5   \n",
      "24                    74          75              6.0   6.7             4.5   \n",
      "25                    86          89              7.1   7.5             5.0   \n",
      "26                    86          78              7.9   7.7             4.5   \n",
      "27                    85          72              7.8   7.5             4.5   \n",
      "28                    92          77              8.8   8.2             4.5   \n",
      "29                    89          84              7.5   7.9             4.5   \n",
      "..                   ...         ...              ...   ...             ...   \n",
      "116                   67          78              7.1   6.8             3.5   \n",
      "117                   79          77              7.9   7.3             4.0   \n",
      "118                   76          64              7.9   7.2             4.0   \n",
      "119                   81          91              8.0   7.2             3.5   \n",
      "120                   73          75              7.0   7.1             3.5   \n",
      "121                   87          68              8.5   7.1             4.0   \n",
      "122                   86          86              7.3   7.4             4.0   \n",
      "123                   64          60              5.4   6.3             4.5   \n",
      "124                   65          55              7.3   6.7             4.5   \n",
      "125                   66          35              3.3   6.7             4.5   \n",
      "126                   81          51              7.2   7.4             4.5   \n",
      "127                   60          60              6.9   6.0             4.5   \n",
      "128                   90          75              8.0   7.8             4.5   \n",
      "129                   91          85              8.8   8.0             4.5   \n",
      "130                   81          59              7.0   7.3             4.5   \n",
      "131                   52          56              5.7   6.7             4.0   \n",
      "132                   73          47              5.9   7.0             4.5   \n",
      "133                   36          13              2.4   4.3             3.5   \n",
      "134                   73          33              4.8   7.2             4.5   \n",
      "135                   23          31              4.9   5.2             3.0   \n",
      "136                   25          42              4.4   4.9             3.0   \n",
      "137                   75          58              7.1   7.1             4.0   \n",
      "138                   83          50              7.1   7.2             4.5   \n",
      "139                   25          36              5.3   5.4             3.0   \n",
      "140                   90          94              8.9   8.6             4.5   \n",
      "141                   78          67              7.9   7.4             4.0   \n",
      "142                   82          83              7.5   7.2             3.5   \n",
      "143                   78          89              8.8   7.4             3.5   \n",
      "144                   81          90              7.3   7.8             3.5   \n",
      "145                   63          68              6.4   6.7             3.5   \n",
      "\n",
      "     Fandango_Ratingvalue  RT_norm  RT_user_norm         ...           \\\n",
      "0                     4.5     3.70          4.30         ...            \n",
      "1                     4.5     4.25          4.00         ...            \n",
      "2                     4.5     4.00          4.50         ...            \n",
      "3                     4.5     0.90          4.20         ...            \n",
      "4                     3.0     0.70          1.40         ...            \n",
      "5                     4.0     3.15          3.10         ...            \n",
      "6                     3.5     2.10          2.65         ...            \n",
      "7                     3.5     4.30          3.20         ...            \n",
      "8                     4.0     4.95          4.10         ...            \n",
      "9                     4.0     4.45          4.35         ...            \n",
      "10                    4.0     4.20          3.85         ...            \n",
      "11                    3.5     4.10          3.00         ...            \n",
      "12                    3.5     4.95          3.95         ...            \n",
      "13                    4.1     2.55          3.50         ...            \n",
      "14                    4.6     4.50          4.60         ...            \n",
      "15                    4.1     0.45          2.30         ...            \n",
      "16                    4.1     2.30          2.90         ...            \n",
      "17                    4.6     2.95          4.00         ...            \n",
      "18                    4.1     2.50          2.90         ...            \n",
      "19                    4.1     0.85          2.70         ...            \n",
      "20                    4.6     3.95          4.45         ...            \n",
      "21                    4.1     2.95          2.80         ...            \n",
      "22                    4.1     3.40          4.00         ...            \n",
      "23                    4.1     3.00          2.95         ...            \n",
      "24                    4.1     4.25          3.70         ...            \n",
      "25                    4.6     4.95          4.30         ...            \n",
      "26                    4.1     4.60          4.30         ...            \n",
      "27                    4.1     4.40          4.25         ...            \n",
      "28                    4.1     4.80          4.60         ...            \n",
      "29                    4.1     4.60          4.45         ...            \n",
      "..                    ...      ...           ...         ...            \n",
      "116                   3.4     4.45          3.35         ...            \n",
      "117                   3.9     4.05          3.95         ...            \n",
      "118                   3.9     4.00          3.80         ...            \n",
      "119                   3.4     4.95          4.05         ...            \n",
      "120                   3.4     4.20          3.65         ...            \n",
      "121                   3.9     4.20          4.35         ...            \n",
      "122                   3.9     4.75          4.30         ...            \n",
      "123                   4.4     3.10          3.20         ...            \n",
      "124                   4.4     2.25          3.25         ...            \n",
      "125                   4.4     1.35          3.30         ...            \n",
      "126                   4.4     2.60          4.05         ...            \n",
      "127                   4.4     3.00          3.00         ...            \n",
      "128                   4.4     4.60          4.50         ...            \n",
      "129                   4.4     4.85          4.55         ...            \n",
      "130                   4.5     3.55          4.05         ...            \n",
      "131                   4.0     2.70          2.60         ...            \n",
      "132                   4.5     1.75          3.65         ...            \n",
      "133                   3.5     0.25          1.80         ...            \n",
      "134                   4.5     1.55          3.65         ...            \n",
      "135                   3.0     0.70          1.15         ...            \n",
      "136                   3.0     1.10          1.25         ...            \n",
      "137                   4.0     3.85          3.75         ...            \n",
      "138                   4.5     2.60          4.15         ...            \n",
      "139                   3.0     0.90          1.25         ...            \n",
      "140                   4.5     4.90          4.50         ...            \n",
      "141                   4.0     4.35          3.90         ...            \n",
      "142                   3.5     4.85          4.10         ...            \n",
      "143                   3.5     4.85          3.90         ...            \n",
      "144                   3.5     5.00          4.05         ...            \n",
      "145                   3.5     4.35          3.15         ...            \n",
      "\n",
      "     IMDB_norm  RT_norm_round  RT_user_norm_round  Metacritic_norm_round  \\\n",
      "0         3.90            3.5                 4.5                    3.5   \n",
      "1         3.55            4.5                 4.0                    3.5   \n",
      "2         3.90            4.0                 4.5                    3.0   \n",
      "3         2.70            1.0                 4.0                    1.0   \n",
      "4         2.55            0.5                 1.5                    1.5   \n",
      "5         3.60            3.0                 3.0                    2.5   \n",
      "6         3.45            2.0                 2.5                    2.5   \n",
      "7         3.25            4.5                 3.0                    4.0   \n",
      "8         3.70            5.0                 4.0                    4.0   \n",
      "9         3.90            4.5                 4.5                    4.0   \n",
      "10        3.60            4.0                 4.0                    3.5   \n",
      "11        3.20            4.0                 3.0                    3.0   \n",
      "12        3.85            5.0                 4.0                    4.5   \n",
      "13        3.60            2.5                 3.5                    3.0   \n",
      "14        4.05            4.5                 4.5                    3.5   \n",
      "15        3.05            0.5                 2.5                    1.5   \n",
      "16        3.30            2.5                 3.0                    2.5   \n",
      "17        3.90            3.0                 4.0                    3.0   \n",
      "18        3.15            2.5                 3.0                    2.5   \n",
      "19        2.80            1.0                 2.5                    1.5   \n",
      "20        3.75            4.0                 4.5                    3.0   \n",
      "21        3.15            3.0                 3.0                    2.5   \n",
      "22        3.80            3.5                 4.0                    3.0   \n",
      "23        3.30            3.0                 3.0                    3.0   \n",
      "24        3.35            4.5                 3.5                    4.0   \n",
      "25        3.75            5.0                 4.5                    4.5   \n",
      "26        3.85            4.5                 4.5                    4.0   \n",
      "27        3.75            4.5                 4.5                    3.5   \n",
      "28        4.10            5.0                 4.5                    4.0   \n",
      "29        3.95            4.5                 4.5                    4.0   \n",
      "..         ...            ...                 ...                    ...   \n",
      "116       3.40            4.5                 3.5                    4.0   \n",
      "117       3.65            4.0                 4.0                    4.0   \n",
      "118       3.60            4.0                 4.0                    3.0   \n",
      "119       3.60            5.0                 4.0                    4.5   \n",
      "120       3.55            4.0                 3.5                    4.0   \n",
      "121       3.55            4.0                 4.5                    3.5   \n",
      "122       3.70            5.0                 4.5                    4.5   \n",
      "123       3.15            3.0                 3.0                    3.0   \n",
      "124       3.35            2.5                 3.5                    3.0   \n",
      "125       3.35            1.5                 3.5                    2.0   \n",
      "126       3.70            2.5                 4.0                    2.5   \n",
      "127       3.00            3.0                 3.0                    3.0   \n",
      "128       3.90            4.5                 4.5                    4.0   \n",
      "129       4.00            5.0                 4.5                    4.5   \n",
      "130       3.65            3.5                 4.0                    3.0   \n",
      "131       3.35            2.5                 2.5                    3.0   \n",
      "132       3.50            2.0                 3.5                    2.5   \n",
      "133       2.15            0.5                 2.0                    0.5   \n",
      "134       3.60            1.5                 3.5                    1.5   \n",
      "135       2.60            0.5                 1.0                    1.5   \n",
      "136       2.45            1.0                 1.5                    2.0   \n",
      "137       3.55            4.0                 4.0                    3.0   \n",
      "138       3.60            2.5                 4.0                    2.5   \n",
      "139       2.70            1.0                 1.5                    2.0   \n",
      "140       4.30            5.0                 4.5                    4.5   \n",
      "141       3.70            4.5                 4.0                    3.5   \n",
      "142       3.60            5.0                 4.0                    4.0   \n",
      "143       3.70            5.0                 4.0                    4.5   \n",
      "144       3.90            5.0                 4.0                    4.5   \n",
      "145       3.35            4.5                 3.0                    3.5   \n",
      "\n",
      "     Metacritic_user_norm_round  IMDB_norm_round  Metacritic_user_vote_count  \\\n",
      "0                           3.5              4.0                        1330   \n",
      "1                           4.0              3.5                         249   \n",
      "2                           4.0              4.0                         627   \n",
      "3                           2.5              2.5                          31   \n",
      "4                           1.5              2.5                          88   \n",
      "5                           3.5              3.5                          34   \n",
      "6                           4.0              3.5                          17   \n",
      "7                           3.5              3.5                         124   \n",
      "8                           4.5              3.5                          62   \n",
      "9                           4.5              4.0                          54   \n",
      "10                          4.0              3.5                          35   \n",
      "11                          3.5              3.0                          37   \n",
      "12                          3.5              4.0                         145   \n",
      "13                          3.5              3.5                         218   \n",
      "14                          4.0              4.0                         566   \n",
      "15                          2.5              3.0                         240   \n",
      "16                          3.5              3.5                         197   \n",
      "17                          4.0              4.0                         128   \n",
      "18                          3.0              3.0                         103   \n",
      "19                          2.5              3.0                         246   \n",
      "20                          3.5              4.0                          59   \n",
      "21                          3.5              3.0                         115   \n",
      "22                          4.0              4.0                         144   \n",
      "23                          3.5              3.5                         141   \n",
      "24                          3.0              3.5                         169   \n",
      "25                          3.5              4.0                         316   \n",
      "26                          4.0              4.0                         672   \n",
      "27                          4.0              4.0                         153   \n",
      "28                          4.5              4.0                         107   \n",
      "29                          4.0              4.0                          19   \n",
      "..                          ...              ...                         ...   \n",
      "116                         3.5              3.5                          36   \n",
      "117                         4.0              3.5                          15   \n",
      "118                         4.0              3.5                           8   \n",
      "119                         4.0              3.5                          21   \n",
      "120                         3.5              3.5                           8   \n",
      "121                         4.5              3.5                           6   \n",
      "122                         3.5              3.5                          14   \n",
      "123                         2.5              3.0                          52   \n",
      "124                         3.5              3.5                         177   \n",
      "125                         1.5              3.5                         126   \n",
      "126                         3.5              3.5                          72   \n",
      "127                         3.5              3.0                          20   \n",
      "128                         4.0              4.0                         362   \n",
      "129                         4.5              4.0                          60   \n",
      "130                         3.5              3.5                        1281   \n",
      "131                         3.0              3.5                         204   \n",
      "132                         3.0              3.5                          15   \n",
      "133                         1.0              2.0                         211   \n",
      "134                         2.5              3.5                          49   \n",
      "135                         2.5              2.5                          62   \n",
      "136                         2.0              2.5                          55   \n",
      "137                         3.5              3.5                          33   \n",
      "138                         3.5              3.5                           7   \n",
      "139                         2.5              2.5                          19   \n",
      "140                         4.5              4.5                         807   \n",
      "141                         4.0              3.5                          33   \n",
      "142                         4.0              3.5                          60   \n",
      "143                         4.5              3.5                         123   \n",
      "144                         3.5              4.0                          19   \n",
      "145                         3.0              3.5                          19   \n",
      "\n",
      "     IMDB_user_vote_count  Fandango_votes  Fandango_Difference  \n",
      "0                  271107           14846                  0.5  \n",
      "1                   65709           12640                  0.5  \n",
      "2                  103660           12055                  0.5  \n",
      "3                    3136            1793                  0.5  \n",
      "4                   19560            1021                  0.5  \n",
      "5                   39373             397                  0.5  \n",
      "6                    2680             252                  0.5  \n",
      "7                   16876            3223                  0.5  \n",
      "8                   12227             896                  0.5  \n",
      "9                    5367             864                  0.5  \n",
      "10                  12129             804                  0.5  \n",
      "11                  16547             218                  0.5  \n",
      "12                  22521              64                  0.5  \n",
      "13                  77518            9443                  0.4  \n",
      "14                 334164            8055                  0.4  \n",
      "15                 104235            6757                  0.4  \n",
      "16                  49102            6437                  0.4  \n",
      "17                  23561            5597                  0.4  \n",
      "18                  50291            5445                  0.4  \n",
      "19                  19521            3886                  0.4  \n",
      "20                  13769            3364                  0.4  \n",
      "21                  25134            3276                  0.4  \n",
      "22                  22104            2686                  0.4  \n",
      "23                  50438            2066                  0.4  \n",
      "24                  27380            8381                  0.4  \n",
      "25                  45344            7025                  0.4  \n",
      "26                 154499            3458                  0.4  \n",
      "27                  57123            1258                  0.4  \n",
      "28                  50285             235                  0.4  \n",
      "29                   1320             121                  0.4  \n",
      "..                    ...             ...                  ...  \n",
      "116                 11392             162                  0.1  \n",
      "117                  5495             127                  0.1  \n",
      "118                  1062             124                  0.1  \n",
      "119                  3687              70                  0.1  \n",
      "120                  1488              66                  0.1  \n",
      "121                   950              51                  0.1  \n",
      "122                   696              36                  0.1  \n",
      "123                 11937            9363                  0.1  \n",
      "124                 41158            7705                  0.1  \n",
      "125                 37292            6506                  0.1  \n",
      "126                 17957            2435                  0.1  \n",
      "127                  4110              99                  0.1  \n",
      "128                 82579            8357                  0.1  \n",
      "129                  5630             729                  0.1  \n",
      "130                241807           34390                  0.0  \n",
      "131                 55895           14998                  0.0  \n",
      "132                  5444            3412                  0.0  \n",
      "133                 15004            3054                  0.0  \n",
      "134                 25214            2603                  0.0  \n",
      "135                 17691            1651                  0.0  \n",
      "136                 14873            1333                  0.0  \n",
      "137                 11206             531                  0.0  \n",
      "138                 47377             450                  0.0  \n",
      "139                 12165              50                  0.0  \n",
      "140                 96252           15749                  0.0  \n",
      "141                  7367            1348                  0.0  \n",
      "142                 24116             192                  0.0  \n",
      "143                 24345             118                  0.0  \n",
      "144                  1955              59                  0.0  \n",
      "145                  5289              41                  0.0  \n",
      "\n",
      "[146 rows x 22 columns]\n"
     ]
    }
   ],
   "source": [
    "import pandas as pd\n",
    "movies = pd.read_csv(\"fandango_score_comparison.csv\")\n",
    "\n",
    "print(movies)"
   ]
  },
  {
   "cell_type": "code",
   "execution_count": 2,
   "metadata": {
    "collapsed": false
   },
   "outputs": [
    {
     "data": {
      "image/png": "[encoded data removed]",
      "text/plain": [
       "<matplotlib.figure.Figure at 0x7f1cf9b4bc18>"
      ]
     },
     "metadata": {},
     "output_type": "display_data"
    }
   ],
   "source": [
    "import matplotlib.pyplot as plt\n",
    "%matplotlib inline\n",
    "\n",
    "plt.hist(movies[\"Metacritic_norm_round\"])\n",
    "plt.hist(movies[\"Fandango_Stars\"])\n",
    "plt.show()"
   ]
  },
  {
   "cell_type": "markdown",
   "metadata": {},
   "source": [
    "# difference\n",
    "\n",
    "Metacritic_norm_round's score disrtibution is more platykurtic, while Fandango_Stars is mroe\n",
    "leptokurtic"
   ]
  },
  {
   "cell_type": "code",
   "execution_count": 6,
   "metadata": {
    "collapsed": false
   },
   "outputs": [
    {
     "name": "stdout",
     "output_type": "stream",
     "text": [
      "metactritic mean, median, std =  2.97260273973 3.0 0.990960561374\n",
      "fandango mean, median, std =  4.08904109589 4.0 0.540385977979\n"
     ]
    }
   ],
   "source": [
    "Metacritic_norm_round_mean = movies[\"Metacritic_norm_round\"].mean()\n",
    "Metacritic_norm_round_median = movies[\"Metacritic_norm_round\"].median()\n",
    "Metacritic_norm_round_std = movies[\"Metacritic_norm_round\"].std()\n",
    "\n",
    "Fandango_Stars_mean = movies[\"Fandango_Stars\"].mean()\n",
    "Fandango_Stars_median = movies[\"Fandango_Stars\"].median()\n",
    "Fandango_Stars_std = movies[\"Fandango_Stars\"].std()\n",
    "\n",
    "print(\"metactritic mean, median, std = \", Metacritic_norm_round_mean, Metacritic_norm_round_median, Metacritic_norm_round_std)\n",
    "print(\"fandango mean, median, std = \", Fandango_Stars_mean, Fandango_Stars_median, Fandango_Stars_std)\n"
   ]
  },
  {
   "cell_type": "markdown",
   "metadata": {},
   "source": [
    "\n",
    "# Fandango vs Metacritic Methodology\n",
    "\n",
    "##### Fandango appears to inflate ratings and isn't transparent about how it calculates and aggregates ratings. Metacritic publishes each individual critic rating, and is transparent about how they aggregate them to get a final rating."
   ]
  },
  {
   "cell_type": "code",
   "execution_count": 7,
   "metadata": {
    "collapsed": false
   },
   "outputs": [
    {
     "data": {
      "text/plain": [
       "<matplotlib.collections.PathCollection at 0x7f1cf51e0c18>"
      ]
     },
     "execution_count": 7,
     "metadata": {},
     "output_type": "execute_result"
    },
    {
     "data": {
      "image/png": "[encoded data removed]",
      "text/plain": [
       "<matplotlib.figure.Figure at 0x7f1cf9b4bc88>"
      ]
     },
     "metadata": {},
     "output_type": "display_data"
    }
   ],
   "source": [
    "plt.scatter(movies[\"Metacritic_norm_round\"], movies[\"Fandango_Stars\"])"
   ]
  },
  {
   "cell_type": "code",
   "execution_count": 11,
   "metadata": {
    "collapsed": true
   },
   "outputs": [
    {
     "name": "stdout",
     "output_type": "stream",
     "text": [
      "3       Do You Believe? (2015)\n",
      "85           Little Boy (2015)\n",
      "47                Annie (2014)\n",
      "19               Pixels (2015)\n",
      "134    The Longest Ride (2015)\n",
      "Name: FILM, dtype: object\n",
      "3      4.0\n",
      "85     3.0\n",
      "47     3.0\n",
      "19     3.0\n",
      "134    3.0\n",
      "Name: fm_diff, dtype: float64\n"
     ]
    }
   ],
   "source": [
    "import numpy as np\n",
    "movies[\"fm_diff\"] = movies[\"Metacritic_norm_round\"] - movies[\"Fandango_Stars\"]\n",
    "movies[\"fm_diff\"] = np.absolute(movies[\"fm_diff\"])\n",
    "sorted_movies = movies.sort_values(\"fm_diff\", ascending=False)\n",
    "print(sorted_movies[\"FILM\"].head(5))\n",
    "\n",
    "print(sorted_movies[\"fm_diff\"].head(5))"
   ]
  },
  {
   "cell_type": "code",
   "execution_count": 17,
   "metadata": {
    "collapsed": false
   },
   "outputs": [
    {
     "name": "stdout",
     "output_type": "stream",
     "text": [
      "correlation, p-value =  (0.17844919073895918, 0.031161516228523815)\n"
     ]
    }
   ],
   "source": [
    "from scipy.stats import pearsonr\n",
    "\n",
    "print(\"correlation, p-value = \", pearsonr(movies[\"Metacritic_norm_round\"], movies[\"Fandango_Stars\"]))\n",
    "\n"
   ]
  },
  {
   "cell_type": "markdown",
   "metadata": {},
   "source": [
    "The low correlation between Fandango and Metacritic scores indicates that Fandango scores aren't just inflated, they are fundamentally different. For whatever reason, it appears like Fandango both inflates scores overall, and inflates scores differently depending on the movie."
   ]
  },
  {
   "cell_type": "code",
   "execution_count": 20,
   "metadata": {
    "collapsed": false
   },
   "outputs": [
    {
     "name": "stdout",
     "output_type": "stream",
     "text": [
      "0.0973110779739 3.7997739189 0.178449190739 0.0311615162285 0.0447135446568\n",
      "4.09170715282\n"
     ]
    }
   ],
   "source": [
    "from scipy.stats import linregress\n",
    "\n",
    "slope, intercept, r_value, p_value, stderr_slope = linregress(movies[\"Metacritic_norm_round\"], movies[\"Fandango_Stars\"])\n",
    "print(slope, intercept, r_value, p_value, stderr_slope)\n",
    "\n",
    "pred_3 = 3 * slope + intercept\n",
    "print(pred_3)"
   ]
  },
  {
   "cell_type": "code",
   "execution_count": 22,
   "metadata": {
    "collapsed": false
   },
   "outputs": [
    {
     "name": "stdout",
     "output_type": "stream",
     "text": [
      "3.89708499687\n",
      "4.28632930877\n"
     ]
    }
   ],
   "source": [
    "pred_1 = 1* slope + intercept\n",
    "print(pred_1)\n",
    "\n",
    "pred_5 = 5 * slope + intercept\n",
    "print(pred_5)\n",
    "\n",
    "def predict(num):\n",
    "    return num*slope + intercept"
   ]
  },
  {
   "cell_type": "code",
   "execution_count": 24,
   "metadata": {
    "collapsed": false
   },
   "outputs": [
    {
     "data": {
      "image/png": "[encoded data removed]",
      "text/plain": [
       "<matplotlib.figure.Figure at 0x7f1cfcdcb9b0>"
      ]
     },
     "metadata": {},
     "output_type": "display_data"
    }
   ],
   "source": [
    "plt.scatter([1.0, 5.0], [predict(1.0), predict(5.0)])\n",
    "plt.plot([1.0, 5.0], [predict(1.0), predict(5.0)])\n",
    "plt.xlim(1,5)\n",
    "plt.show()\n"
   ]
  },
  {
   "cell_type": "code",
   "execution_count": null,
   "metadata": {
    "collapsed": true
   },
   "outputs": [],
   "source": []
  }
 ],
 "metadata": {
  "kernelspec": {
   "display_name": "Python 3",
   "language": "python",
   "name": "python3"
  },
  "language_info": {
   "codemirror_mode": {
    "name": "ipython",
    "version": 3
   },
   "file_extension": ".py",
   "mimetype": "text/x-python",
   "name": "python",
   "nbconvert_exporter": "python",
   "pygments_lexer": "ipython3",
   "version": "3.4.3"
  }
 },
 "nbformat": 4,
 "nbformat_minor": 0
}
