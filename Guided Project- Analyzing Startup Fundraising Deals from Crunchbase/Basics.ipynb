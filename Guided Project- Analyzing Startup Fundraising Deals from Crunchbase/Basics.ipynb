{
 "cells": [
  {
   "cell_type": "code",
   "execution_count": 1,
   "metadata": {
    "collapsed": true
   },
   "outputs": [],
   "source": [
    "import pandas as pd\n"
   ]
  },
  {
   "cell_type": "code",
   "execution_count": 2,
   "metadata": {
    "collapsed": true
   },
   "outputs": [],
   "source": [
    "def read_data_in_chunk():\n",
    "    df_iter = pd.read_csv(\"crunchbase-investments.csv\", encoding='latin1', chunksize=5000)\n",
    "    return df_iter\n"
   ]
  },
  {
   "cell_type": "markdown",
   "metadata": {},
   "source": [
    "print mssing value counts, memory footprint, total memory"
   ]
  },
  {
   "cell_type": "code",
   "execution_count": 3,
   "metadata": {
    "collapsed": false
   },
   "outputs": [
    {
     "name": "stdout",
     "output_type": "stream",
     "text": [
      "Mem (MB):  5.57919502258\n",
      "Mem (MB):  5.5281867981\n",
      "Mem (MB):  5.53500461578\n",
      "Mem (MB):  5.52816295624\n",
      "Mem (MB):  5.52430725098\n",
      "Mem (MB):  5.55341243744\n",
      "Mem (MB):  5.5313911438\n",
      "Mem (MB):  5.50961303711\n",
      "Mem (MB):  5.39609050751\n",
      "Mem (MB):  4.63945198059\n",
      "Mem (MB):  2.66366863251\n",
      "Total Mem (MB):  56.9884843826\n",
      "Null count for each column:\n",
      "643 \t <==  company_category_code\n",
      "533 \t <==  company_city\n",
      "1 \t <==  company_country_code\n",
      "1 \t <==  company_name\n",
      "1 \t <==  company_permalink\n",
      "1 \t <==  company_region\n",
      "492 \t <==  company_state_code\n",
      "3 \t <==  funded_at\n",
      "3 \t <==  funded_month\n",
      "3 \t <==  funded_quarter\n",
      "3 \t <==  funded_year\n",
      "3 \t <==  funding_round_type\n",
      "50427 \t <==  investor_category_code\n",
      "12480 \t <==  investor_city\n",
      "12001 \t <==  investor_country_code\n",
      "2 \t <==  investor_name\n",
      "2 \t <==  investor_permalink\n",
      "2 \t <==  investor_region\n",
      "16809 \t <==  investor_state_code\n",
      "3599 \t <==  raised_amount_usd\n"
     ]
    }
   ],
   "source": [
    "df_iter = read_data_in_chunk()\n",
    "\n",
    "total_mem = 0\n",
    "null_counts = {}\n",
    "\n",
    "for df in df_iter:\n",
    "    for c in df.columns:\n",
    "        if c not in null_counts:\n",
    "            null_counts[c] = df[c].isnull().sum()\n",
    "        else:\n",
    "            null_counts[c] += df[c].isnull().sum()\n",
    "        \n",
    "    mem = df.memory_usage(deep=True).sum()/(1024*1024)\n",
    "    total_mem += mem\n",
    "    print(\"Mem (MB): \", mem)\n",
    "    \n",
    "    \n",
    "print(\"Total Mem (MB): \", total_mem)\n",
    "\n",
    "print(\"Null count for each column:\")\n",
    "for c in sorted(null_counts):\n",
    "    print(null_counts[c], \"\\t <== \", c)\n",
    "    "
   ]
  },
  {
   "cell_type": "markdown",
   "metadata": {},
   "source": [
    "print default datatype\\columns"
   ]
  },
  {
   "cell_type": "code",
   "execution_count": 4,
   "metadata": {
    "collapsed": false
   },
   "outputs": [
    {
     "name": "stdout",
     "output_type": "stream",
     "text": [
      "dtypes:  company_permalink          object\n",
      "company_name               object\n",
      "company_category_code      object\n",
      "company_country_code       object\n",
      "company_state_code         object\n",
      "company_region             object\n",
      "company_city               object\n",
      "investor_permalink         object\n",
      "investor_name              object\n",
      "investor_category_code     object\n",
      "investor_country_code      object\n",
      "investor_state_code        object\n",
      "investor_region            object\n",
      "investor_city              object\n",
      "funding_round_type         object\n",
      "funded_at                  object\n",
      "funded_month               object\n",
      "funded_quarter             object\n",
      "funded_year                 int64\n",
      "raised_amount_usd         float64\n",
      "dtype: object\n",
      "columns:  ['company_permalink', 'company_name', 'company_category_code', 'company_country_code', 'company_state_code', 'company_region', 'company_city', 'investor_permalink', 'investor_name', 'investor_category_code', 'investor_country_code', 'investor_state_code', 'investor_region', 'investor_city', 'funding_round_type', 'funded_at', 'funded_month', 'funded_quarter', 'funded_year', 'raised_amount_usd']\n"
     ]
    }
   ],
   "source": [
    "df_iter = read_data_in_chunk()\n",
    "\n",
    "\n",
    "for df in df_iter:\n",
    "    print(\"dtypes: \", df.dtypes)\n",
    "    print(\"columns: \", df.columns.tolist())\n",
    "    break"
   ]
  },
  {
   "cell_type": "markdown",
   "metadata": {},
   "source": [
    "tight numerical columm representation types"
   ]
  },
  {
   "cell_type": "code",
   "execution_count": 5,
   "metadata": {
    "collapsed": false
   },
   "outputs": [
    {
     "name": "stdout",
     "output_type": "stream",
     "text": [
      "int16\n",
      "float32\n",
      "Mem (MB):  5.53151130676\n",
      "int16\n",
      "float32\n",
      "Mem (MB):  5.48050308228\n",
      "int16\n",
      "float32\n",
      "Mem (MB):  5.48732089996\n",
      "int16\n",
      "float32\n",
      "Mem (MB):  5.48047924042\n",
      "int16\n",
      "float32\n",
      "Mem (MB):  5.47662353516\n",
      "int16\n",
      "float32\n",
      "Mem (MB):  5.50572872162\n",
      "float64\n",
      "float32\n",
      "Mem (MB):  5.51231765747\n",
      "int16\n",
      "float32\n",
      "Mem (MB):  5.46192932129\n",
      "int16\n",
      "float32\n",
      "Mem (MB):  5.34840679169\n",
      "int16\n",
      "float32\n",
      "Mem (MB):  4.59176826477\n",
      "int16\n",
      "float32\n",
      "Mem (MB):  2.63629817963\n",
      "Total Mem (MB):  56.512887001\n"
     ]
    }
   ],
   "source": [
    "df_iter = read_data_in_chunk()\n",
    "\n",
    "total_mem = 0\n",
    "\n",
    "for i, df in enumerate(df_iter):\n",
    "    \n",
    "    df.funded_year = pd.to_numeric(df.funded_year, downcast='integer')\n",
    "    df.raised_amount_usd = pd.to_numeric(df.raised_amount_usd, downcast='float')\n",
    " \n",
    "    print(df.funded_year.dtype)\n",
    "    print(df.raised_amount_usd.dtype)\n",
    "    \n",
    "    mem = df.memory_usage(deep=True).sum()/(1024*1024)\n",
    "    total_mem += mem\n",
    "    \n",
    "    print(\"Mem (MB): \", mem)\n",
    "    \n",
    "    \n",
    "print(\"Total Mem (MB): \", total_mem)"
   ]
  },
  {
   "cell_type": "markdown",
   "metadata": {},
   "source": [
    "## df.funded_year ==> int16\n",
    "## df.raised_amount_usd ==> float32\n",
    "is ok for all chunks"
   ]
  },
  {
   "cell_type": "code",
   "execution_count": 6,
   "metadata": {
    "collapsed": false
   },
   "outputs": [
    {
     "name": "stdout",
     "output_type": "stream",
     "text": [
      "     company_permalink company_name company_category_code  \\\n",
      "0    /company/advercar     AdverCar           advertising   \n",
      "1  /company/launchgram   LaunchGram                  news   \n",
      "2        /company/utap         uTaP             messaging   \n",
      "3    /company/zoopshop     ZoopShop              software   \n",
      "4    /company/efuneral     eFuneral                   web   \n",
      "\n",
      "  company_country_code company_state_code         company_region  \\\n",
      "0                  USA                 CA                 SF Bay   \n",
      "1                  USA                 CA                 SF Bay   \n",
      "2                  USA                NaN  United States - Other   \n",
      "3                  USA                 OH               Columbus   \n",
      "4                  USA                 OH              Cleveland   \n",
      "\n",
      "    company_city          investor_permalink      investor_name  \\\n",
      "0  San Francisco  /company/1-800-flowers-com  1-800-FLOWERS.COM   \n",
      "1  Mountain View        /company/10xelerator        10Xelerator   \n",
      "2            NaN        /company/10xelerator        10Xelerator   \n",
      "3       columbus        /company/10xelerator        10Xelerator   \n",
      "4      Cleveland        /company/10xelerator        10Xelerator   \n",
      "\n",
      "  investor_category_code investor_country_code investor_state_code  \\\n",
      "0                    NaN                   USA                  NY   \n",
      "1                finance                   USA                  OH   \n",
      "2                finance                   USA                  OH   \n",
      "3                finance                   USA                  OH   \n",
      "4                finance                   USA                  OH   \n",
      "\n",
      "  investor_region investor_city funding_round_type   funded_at funded_month  \\\n",
      "0        New York      New York           series-a  2012-10-30      2012-10   \n",
      "1        Columbus      Columbus              other  2012-01-23      2012-01   \n",
      "2        Columbus      Columbus              other  2012-01-01      2012-01   \n",
      "3        Columbus      Columbus              angel  2012-02-15      2012-02   \n",
      "4        Columbus      Columbus              other  2011-09-08      2011-09   \n",
      "\n",
      "  funded_quarter  \n",
      "0        2012-Q4  \n",
      "1        2012-Q1  \n",
      "2        2012-Q1  \n",
      "3        2012-Q1  \n",
      "4        2011-Q3  \n",
      "['company_permalink', 'company_name', 'company_category_code', 'company_country_code', 'company_state_code', 'company_region', 'company_city', 'investor_permalink', 'investor_name', 'investor_category_code', 'investor_country_code', 'investor_state_code', 'investor_region', 'investor_city', 'funding_round_type', 'funded_at', 'funded_month', 'funded_quarter']\n",
      "\n",
      "\n",
      "\n",
      "\n",
      "Evaluate unique value less than 50% of total data counts\n",
      "\n",
      "Columns that should be convert to category type:\n",
      " ['funded_quarter', 'company_state_code', 'company_name', 'investor_category_code', 'funded_at', 'investor_name', 'funded_month', 'company_city', 'investor_city', 'company_category_code', 'funding_round_type', 'investor_country_code', 'investor_region', 'company_permalink', 'investor_permalink', 'company_country_code', 'company_region', 'investor_state_code']\n"
     ]
    }
   ],
   "source": [
    "df_iter = read_data_in_chunk()\n",
    "\n",
    "unique_vals = {}\n",
    "all_columns = []\n",
    "\n",
    "for i, df in enumerate(df_iter):\n",
    "    \n",
    "    obj_cols = df.select_dtypes(include=['object'])\n",
    "    if i == 0:\n",
    "        print(obj_cols.head(5))\n",
    "    \n",
    "    for c in obj_cols.columns:\n",
    "        if c not in unique_vals:\n",
    "            unique_vals[c] = []\n",
    "            all_columns.append(c)\n",
    "            \n",
    "        unique_vals[c].append(obj_cols[c].value_counts())\n",
    "    \n",
    "print(all_columns)\n",
    "\n",
    "print(\"\\n\\n\\n\\nEvaluate unique value less than 50% of total data counts\\n\")\n",
    "to_cat_cols = []\n",
    "\n",
    "for c in unique_vals:\n",
    "    unique_vals[c] = pd.concat(unique_vals[c])\n",
    "    unique_vals[c] = unique_vals[c].groupby(unique_vals[c].index).sum()\n",
    "    \n",
    "    if len(unique_vals[c])/unique_vals[c].sum() < 0.5:\n",
    "        to_cat_cols.append(c)\n",
    "        \n",
    "print(\"Columns that should be convert to category type:\\n\", to_cat_cols)        "
   ]
  },
  {
   "cell_type": "code",
   "execution_count": 7,
   "metadata": {
    "collapsed": true
   },
   "outputs": [],
   "source": [
    "useful_cols = ['company_category_code', 'company_country_code', 'company_state_code', 'company_region', 'company_city', 'investor_name', 'investor_category_code', 'investor_country_code', 'investor_state_code', 'investor_city', 'funding_round_type', 'funded_at','raised_amount_usd']\n",
    "to_dat_cols = ['funded_at']\n",
    "to_cat_cols = ['investor_category_code', 'funding_round_type', 'investor_region', 'investor_name', 'company_category_code', 'investor_state_code', 'company_country_code', 'company_region', 'investor_city', 'company_city', 'investor_country_code', 'company_state_code']"
   ]
  },
  {
   "cell_type": "code",
   "execution_count": 8,
   "metadata": {
    "collapsed": true
   },
   "outputs": [],
   "source": [
    "to_cat_cols_dict = {}\n",
    "\n",
    "for c in to_cat_cols:\n",
    "    to_cat_cols_dict[c] = 'category'\n",
    "\n",
    "to_cat_cols_dict[\"raised_amount_usd\"] = 'float32'\n"
   ]
  },
  {
   "cell_type": "code",
   "execution_count": 9,
   "metadata": {
    "collapsed": true
   },
   "outputs": [],
   "source": [
    "def refined_read_data_in_chunk():\n",
    "    df_iter = pd.read_csv(\"crunchbase-investments.csv\", encoding='latin1', chunksize=5000, usecols=useful_cols, parse_dates=to_dat_cols, dtype=to_cat_cols_dict)\n",
    "    return df_iter"
   ]
  },
  {
   "cell_type": "code",
   "execution_count": 10,
   "metadata": {
    "collapsed": false
   },
   "outputs": [
    {
     "name": "stdout",
     "output_type": "stream",
     "text": [
      "Mem (MB):  0.32080745697\n",
      "Mem (MB):  0.248866081238\n",
      "Mem (MB):  0.245860099792\n",
      "Mem (MB):  0.226246833801\n",
      "Mem (MB):  0.239699363708\n",
      "Mem (MB):  0.237704277039\n",
      "Mem (MB):  0.249403953552\n",
      "Mem (MB):  0.240126609802\n",
      "Mem (MB):  0.260649681091\n",
      "Mem (MB):  0.315644264221\n",
      "Mem (MB):  0.186584472656\n",
      "Total Mem (MB):  2.77159309387\n",
      "dtypes:  company_category_code           category\n",
      "company_country_code            category\n",
      "company_state_code              category\n",
      "company_region                  category\n",
      "company_city                    category\n",
      "investor_name                   category\n",
      "investor_category_code          category\n",
      "investor_country_code           category\n",
      "investor_state_code             category\n",
      "investor_city                   category\n",
      "funding_round_type              category\n",
      "funded_at                 datetime64[ns]\n",
      "raised_amount_usd                float32\n",
      "dtype: object\n",
      "columns:  ['company_category_code', 'company_country_code', 'company_state_code', 'company_region', 'company_city', 'investor_name', 'investor_category_code', 'investor_country_code', 'investor_state_code', 'investor_city', 'funding_round_type', 'funded_at', 'raised_amount_usd']\n"
     ]
    }
   ],
   "source": [
    "df_iter = refined_read_data_in_chunk()\n",
    "\n",
    "total_mem = 0\n",
    "\n",
    "for i, df in enumerate(df_iter):\n",
    "    \n",
    "    mem = df.memory_usage(deep=True).sum()/(1024*1024)\n",
    "    total_mem += mem\n",
    "    print(\"Mem (MB): \", mem)\n",
    "    \n",
    "    \n",
    "print(\"Total Mem (MB): \", total_mem)\n",
    "\n",
    "df_iter = refined_read_data_in_chunk()\n",
    "for df in df_iter:\n",
    "    print(\"dtypes: \", df.dtypes)\n",
    "    print(\"columns: \", df.columns.tolist())\n",
    "    break"
   ]
  },
  {
   "cell_type": "code",
   "execution_count": 11,
   "metadata": {
    "collapsed": false
   },
   "outputs": [
    {
     "name": "stdout",
     "output_type": "stream",
     "text": [
      "    cid                    name       type  notnull dflt_value  pk\n",
      "0     0   company_category_code       TEXT        0       None   0\n",
      "1     1    company_country_code       TEXT        0       None   0\n",
      "2     2      company_state_code       TEXT        0       None   0\n",
      "3     3          company_region       TEXT        0       None   0\n",
      "4     4            company_city       TEXT        0       None   0\n",
      "5     5           investor_name       TEXT        0       None   0\n",
      "6     6  investor_category_code       TEXT        0       None   0\n",
      "7     7   investor_country_code       TEXT        0       None   0\n",
      "8     8     investor_state_code       TEXT        0       None   0\n",
      "9     9           investor_city       TEXT        0       None   0\n",
      "10   10      funding_round_type       TEXT        0       None   0\n",
      "11   11               funded_at  TIMESTAMP        0       None   0\n",
      "12   12       raised_amount_usd       REAL        0       None   0\n"
     ]
    }
   ],
   "source": [
    "import sqlite3\n",
    "conn = sqlite3.connect('crunch.db')\n",
    "\n",
    "df_iter = refined_read_data_in_chunk()\n",
    "\n",
    "for df in df_iter:\n",
    "    df.to_sql(\"crunch_table\", conn, if_exists='append', index=False)\n",
    "    \n",
    "results_df = pd.read_sql('PRAGMA table_info(crunch_table);', conn)\n",
    "print(results_df)  \n"
   ]
  },
  {
   "cell_type": "code",
   "execution_count": 20,
   "metadata": {
    "collapsed": false
   },
   "outputs": [
    {
     "name": "stdout",
     "output_type": "stream",
     "text": [
      "Usage: wc [OPTION]... [FILE]...\n",
      "  or:  wc [OPTION]... --files0-from=F\n",
      "Print newline, word, and byte counts for each FILE, and a total line if\n",
      "more than one FILE is specified.  With no FILE, or when FILE is -,\n",
      "read standard input.  A word is a non-zero-length sequence of characters\n",
      "delimited by white space.\n",
      "The options below may be used to select which counts are printed, always in\n",
      "the following order: newline, word, character, byte, maximum line length.\n",
      "  -c, --bytes            print the byte counts\n",
      "  -m, --chars            print the character counts\n",
      "  -l, --lines            print the newline counts\n",
      "      --files0-from=F    read input from the files specified by\n",
      "                           NUL-terminated names in file F;\n",
      "                           If F is - then read names from standard input\n",
      "  -L, --max-line-length  print the length of the longest line\n",
      "  -w, --words            print the word counts\n",
      "      --help     display this help and exit\n",
      "      --version  output version information and exit\n",
      "\n",
      "Report wc bugs to bug-coreutils@gnu.org\n",
      "GNU coreutils home page: <http://www.gnu.org/software/coreutils/>\n",
      "General help using GNU software: <http://www.gnu.org/gethelp/>\n",
      "For complete documentation, run: info coreutils 'wc invocation'\n",
      "24479744 crunch.db\n"
     ]
    }
   ],
   "source": [
    "!wc --help\n",
    "!wc -c crunch.db"
   ]
  },
  {
   "cell_type": "code",
   "execution_count": 21,
   "metadata": {
    "collapsed": false
   },
   "outputs": [
    {
     "name": "stdout",
     "output_type": "stream",
     "text": [
      "Total MB for crunch.db: 23.345703125\n"
     ]
    }
   ],
   "source": [
    "print(\"Total MB for crunch.db:\", 24479744/1024**2)\n"
   ]
  },
  {
   "cell_type": "code",
   "execution_count": 24,
   "metadata": {
    "collapsed": false
   },
   "outputs": [
    {
     "name": "stdout",
     "output_type": "stream",
     "text": [
      "  company_category_code      investor_name  raised_amount_usd  \\\n",
      "0           advertising  1-800-FLOWERS.COM          2000000.0   \n",
      "1                  news        10Xelerator            20000.0   \n",
      "2             messaging        10Xelerator            20000.0   \n",
      "3              software        10Xelerator            20000.0   \n",
      "4                   web        10Xelerator            20000.0   \n",
      "\n",
      "  funding_round_type  \n",
      "0           series-a  \n",
      "1              other  \n",
      "2              other  \n",
      "3              angel  \n",
      "4              other  \n"
     ]
    }
   ],
   "source": [
    "crunch_df = pd.read_sql('select company_category_code, investor_name, raised_amount_usd, funding_round_type from crunch_table;', conn)\n",
    "print(crunch_df.head())  "
   ]
  },
  {
   "cell_type": "code",
   "execution_count": 31,
   "metadata": {
    "collapsed": false
   },
   "outputs": [
    {
     "name": "stdout",
     "output_type": "stream",
     "text": [
      "                       raised_amount_usd\n",
      "company_category_code                   \n",
      "biotech                     4.415857e+11\n",
      "software                    2.923381e+11\n",
      "mobile                      2.591095e+11\n",
      "cleantech                   2.108209e+11\n",
      "enterprise                  1.834437e+11\n"
     ]
    }
   ],
   "source": [
    "cmp_type_df = crunch_df.groupby(crunch_df.company_category_code).sum()\n",
    "cmp_type_df.sort_values('raised_amount_usd', ascending=False, inplace=True) \n",
    "\n",
    "print(cmp_type_df.head())"
   ]
  },
  {
   "cell_type": "markdown",
   "metadata": {},
   "source": [
    "Which category of company attracted the most investments? ==> Biotech"
   ]
  },
  {
   "cell_type": "code",
   "execution_count": 32,
   "metadata": {
    "collapsed": false
   },
   "outputs": [
    {
     "name": "stdout",
     "output_type": "stream",
     "text": [
      "                                  raised_amount_usd\n",
      "investor_name                                      \n",
      "Kleiner Perkins Caufield & Byers       4.487131e+10\n",
      "New Enterprise Associates              3.877017e+10\n",
      "Accel Partners                         2.588850e+10\n",
      "Goldman Sachs                          2.550184e+10\n",
      "Sequoia Capital                        2.415761e+10\n"
     ]
    }
   ],
   "source": [
    "investor_name_df = crunch_df.groupby(crunch_df.investor_name).sum()\n",
    "investor_name_df.sort_values('raised_amount_usd', ascending=False, inplace=True) \n",
    "\n",
    "print(investor_name_df.head())"
   ]
  },
  {
   "cell_type": "markdown",
   "metadata": {},
   "source": [
    "Which investor contributed the most money (across all startups)? ==> Kleiner Perkins Caufield & Byers"
   ]
  },
  {
   "cell_type": "code",
   "execution_count": 46,
   "metadata": {
    "collapsed": false
   },
   "outputs": [
    {
     "name": "stdout",
     "output_type": "stream",
     "text": [
      "                                  raised_amount_usd  avg investment  count\n",
      "investor_name                                                             \n",
      "Kleiner Perkins Caufield & Byers       4.487131e+10    2.854409e+07   1572\n",
      "New Enterprise Associates              3.877017e+10    2.178099e+07   1780\n",
      "Accel Partners                         2.588850e+10    2.009977e+07   1288\n",
      "Goldman Sachs                          2.550184e+10    5.183300e+07    492\n",
      "Sequoia Capital                        2.415761e+10    1.636694e+07   1476\n"
     ]
    }
   ],
   "source": [
    "investor_name_counts = crunch_df.investor_name.value_counts()\n",
    "\n",
    "investor_name_df[\"count\"] = investor_name_counts\n",
    "investor_name_df[\"avg investment\"] = investor_name_df['raised_amount_usd'] / investor_name_df[\"count\"] \n",
    "investor_name_df.sort_values('raised_amount_usd', ascending=False, inplace=True) \n",
    "print(investor_name_df.head())"
   ]
  },
  {
   "cell_type": "markdown",
   "metadata": {},
   "source": [
    "Which investors contributed the most money per startup? ==> still Kleiner Perkins Caufield & Byers"
   ]
  },
  {
   "cell_type": "code",
   "execution_count": 58,
   "metadata": {
    "collapsed": false
   },
   "outputs": [
    {
     "name": "stdout",
     "output_type": "stream",
     "text": [
      "           count\n",
      "series-a   55752\n",
      "series-c+  43480\n",
      "angel      35956\n",
      "venture    35668\n",
      "series-b   35176\n",
      "                count\n",
      "series-b        35176\n",
      "other            3856\n",
      "private-equity   1428\n",
      "post-ipo          132\n",
      "crowdfunding       20\n"
     ]
    }
   ],
   "source": [
    "funding_round_type_counts = crunch_df.funding_round_type.value_counts()\n",
    "funding_round_type_df = pd.DataFrame()\n",
    "funding_round_type_df['count'] = funding_round_type_counts\n",
    "funding_round_type_df.sort_values('count', ascending=False, inplace=True) \n",
    "\n",
    "print(funding_round_type_df.head())\n",
    "\n",
    "print(funding_round_type_df.tail())"
   ]
  },
  {
   "cell_type": "markdown",
   "metadata": {},
   "source": [
    "Which funding round was the most popular? ==> series-a\n",
    "Which was the least popular? ==> crowdfunding       "
   ]
  }
 ],
 "metadata": {
  "anaconda-cloud": {},
  "kernelspec": {
   "display_name": "Python 3",
   "language": "python",
   "name": "python3"
  },
  "language_info": {
   "codemirror_mode": {
    "name": "ipython",
    "version": 3
   },
   "file_extension": ".py",
   "mimetype": "text/x-python",
   "name": "python",
   "nbconvert_exporter": "python",
   "pygments_lexer": "ipython3",
   "version": "3.4.3"
  }
 },
 "nbformat": 4,
 "nbformat_minor": 2
}
