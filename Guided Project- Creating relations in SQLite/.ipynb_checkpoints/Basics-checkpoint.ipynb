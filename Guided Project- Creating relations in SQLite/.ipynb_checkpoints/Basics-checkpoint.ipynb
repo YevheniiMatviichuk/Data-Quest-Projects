{
 "cells": [
  {
   "cell_type": "code",
   "execution_count": null,
   "metadata": {
    "collapsed": true
   },
   "outputs": [],
   "source": [
    "import sqlite3 as sql\n",
    "\n",
    "conn = sql.connect(\"nominations.db\")\n",
    "\n",
    "def send_sql_command(sql_req):\n",
    "    global conn\n",
    "    conn.execute()\n",
    "    \n",
    "sche"
   ]
  }
 ],
 "metadata": {
  "kernelspec": {
   "display_name": "Python 3",
   "language": "python",
   "name": "python3"
  },
  "language_info": {
   "codemirror_mode": {
    "name": "ipython",
    "version": 3
   },
   "file_extension": ".py",
   "mimetype": "text/x-python",
   "name": "python",
   "nbconvert_exporter": "python",
   "pygments_lexer": "ipython3",
   "version": "3.4.3"
  }
 },
 "nbformat": 4,
 "nbformat_minor": 0
}
