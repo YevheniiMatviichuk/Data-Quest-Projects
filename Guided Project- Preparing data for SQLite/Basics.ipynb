{
 "cells": [
  {
   "cell_type": "code",
   "execution_count": 1,
   "metadata": {
    "collapsed": true
   },
   "outputs": [
    {
     "name": "stdout",
     "output_type": "stream",
     "text": [
      "          Year               Category          Nominee  \\\n",
      "0  2010 (83rd)  Actor -- Leading Role    Javier Bardem   \n",
      "1  2010 (83rd)  Actor -- Leading Role     Jeff Bridges   \n",
      "2  2010 (83rd)  Actor -- Leading Role  Jesse Eisenberg   \n",
      "\n",
      "                          Additional Info Won? Unnamed: 5 Unnamed: 6  \\\n",
      "0                      Biutiful {'Uxbal'}   NO        NaN        NaN   \n",
      "1           True Grit {'Rooster Cogburn'}   NO        NaN        NaN   \n",
      "2  The Social Network {'Mark Zuckerberg'}   NO        NaN        NaN   \n",
      "\n",
      "  Unnamed: 7 Unnamed: 8 Unnamed: 9 Unnamed: 10  \n",
      "0        NaN        NaN        NaN         NaN  \n",
      "1        NaN        NaN        NaN         NaN  \n",
      "2        NaN        NaN        NaN         NaN  \n"
     ]
    }
   ],
   "source": [
    "import pandas as pd\n",
    "df = pd.read_csv(\"academy_awards.csv\", encoding=\"ISO-8859-1\")\n",
    "\n",
    "print(df.head(3))\n",
    "\n"
   ]
  },
  {
   "cell_type": "code",
   "execution_count": 2,
   "metadata": {
    "collapsed": true
   },
   "outputs": [
    {
     "name": "stdout",
     "output_type": "stream",
     "text": [
      "*                                                                                                               7\n",
      " D.B. \"Don\" Keele and Mark E. Engebretson has resulted in the over 20-year dominance of constant-directivity    1\n",
      " error-prone measurements on sets. [Digital Imaging Technology]\"                                                1\n",
      " discoverer of stars                                                                                            1\n",
      " resilience                                                                                                     1\n",
      "Name: Unnamed: 5, dtype: int64\n",
      "*                                                                   9\n",
      " sympathetic                                                        1\n",
      " direct radiator bass style cinema loudspeaker systems. [Sound]\"    1\n",
      " flexibility and water resistance                                   1\n",
      "Name: Unnamed: 6, dtype: int64\n",
      " while requiring no dangerous solvents. [Systems]\"    1\n",
      "*                                                     1\n",
      " kindly                                               1\n",
      "Name: Unnamed: 7, dtype: int64\n",
      " understanding comedy genius - Mack Sennett.\"\"    1\n",
      "*                                                 1\n",
      "Name: Unnamed: 8, dtype: int64\n",
      "*    1\n",
      "Name: Unnamed: 9, dtype: int64\n",
      "*    1\n",
      "Name: Unnamed: 10, dtype: int64\n"
     ]
    }
   ],
   "source": [
    "for i in range(5,11):\n",
    "    print(df[\"Unnamed: \" + str(i)].value_counts())\n",
    "    \n",
    "    "
   ]
  },
  {
   "cell_type": "markdown",
   "metadata": {},
   "source": [
    "# clear year format"
   ]
  },
  {
   "cell_type": "code",
   "execution_count": 3,
   "metadata": {
    "collapsed": true
   },
   "outputs": [
    {
     "name": "stdout",
     "output_type": "stream",
     "text": [
      "0    2010\n",
      "1    2010\n",
      "2    2010\n",
      "Name: Year, dtype: int64\n"
     ]
    }
   ],
   "source": [
    "df[\"Year\"] = df[\"Year\"].str[0:4].astype(\"int64\")\n",
    "print(df[\"Year\"].head(3))"
   ]
  },
  {
   "cell_type": "code",
   "execution_count": 4,
   "metadata": {
    "collapsed": true
   },
   "outputs": [
    {
     "name": "stdout",
     "output_type": "stream",
     "text": [
      "   Year               Category          Nominee  \\\n",
      "0  2010  Actor -- Leading Role    Javier Bardem   \n",
      "1  2010  Actor -- Leading Role     Jeff Bridges   \n",
      "2  2010  Actor -- Leading Role  Jesse Eisenberg   \n",
      "\n",
      "                          Additional Info Won? Unnamed: 5 Unnamed: 6  \\\n",
      "0                      Biutiful {'Uxbal'}   NO        NaN        NaN   \n",
      "1           True Grit {'Rooster Cogburn'}   NO        NaN        NaN   \n",
      "2  The Social Network {'Mark Zuckerberg'}   NO        NaN        NaN   \n",
      "\n",
      "  Unnamed: 7 Unnamed: 8 Unnamed: 9 Unnamed: 10  \n",
      "0        NaN        NaN        NaN         NaN  \n",
      "1        NaN        NaN        NaN         NaN  \n",
      "2        NaN        NaN        NaN         NaN  \n"
     ]
    }
   ],
   "source": [
    "later_than_2000 = df[df[\"Year\"] > 2000]\n",
    "print(later_than_2000.head(3))"
   ]
  },
  {
   "cell_type": "code",
   "execution_count": 5,
   "metadata": {
    "collapsed": true
   },
   "outputs": [
    {
     "name": "stdout",
     "output_type": "stream",
     "text": [
      "   Year               Category          Nominee  \\\n",
      "0  2010  Actor -- Leading Role    Javier Bardem   \n",
      "1  2010  Actor -- Leading Role     Jeff Bridges   \n",
      "2  2010  Actor -- Leading Role  Jesse Eisenberg   \n",
      "\n",
      "                          Additional Info Won? Unnamed: 5 Unnamed: 6  \\\n",
      "0                      Biutiful {'Uxbal'}   NO        NaN        NaN   \n",
      "1           True Grit {'Rooster Cogburn'}   NO        NaN        NaN   \n",
      "2  The Social Network {'Mark Zuckerberg'}   NO        NaN        NaN   \n",
      "\n",
      "  Unnamed: 7 Unnamed: 8 Unnamed: 9 Unnamed: 10  \n",
      "0        NaN        NaN        NaN         NaN  \n",
      "1        NaN        NaN        NaN         NaN  \n",
      "2        NaN        NaN        NaN         NaN  \n"
     ]
    }
   ],
   "source": [
    "award_categories = [\"Actor -- Leading Role\", \"Actor -- Supporting Role\", \"Actress -- Leading Role\", \"Actress -- Supporting Role\"]\n",
    "\n",
    "nominations = later_than_2000[later_than_2000[\"Category\"].isin(award_categories)]\n",
    "\n",
    "print(nominations.head(3))"
   ]
  },
  {
   "cell_type": "markdown",
   "metadata": {},
   "source": [
    "# clear won? \\ unnamed part"
   ]
  },
  {
   "cell_type": "code",
   "execution_count": 6,
   "metadata": {
    "collapsed": true
   },
   "outputs": [
    {
     "name": "stdout",
     "output_type": "stream",
     "text": [
      "   Year               Category          Nominee  \\\n",
      "0  2010  Actor -- Leading Role    Javier Bardem   \n",
      "1  2010  Actor -- Leading Role     Jeff Bridges   \n",
      "2  2010  Actor -- Leading Role  Jesse Eisenberg   \n",
      "\n",
      "                          Additional Info  Won? Unnamed: 5 Unnamed: 6  \\\n",
      "0                      Biutiful {'Uxbal'}     0        NaN        NaN   \n",
      "1           True Grit {'Rooster Cogburn'}     0        NaN        NaN   \n",
      "2  The Social Network {'Mark Zuckerberg'}     0        NaN        NaN   \n",
      "\n",
      "  Unnamed: 7 Unnamed: 8 Unnamed: 9 Unnamed: 10  Won  \n",
      "0        NaN        NaN        NaN         NaN    0  \n",
      "1        NaN        NaN        NaN         NaN    0  \n",
      "2        NaN        NaN        NaN         NaN    0  \n"
     ]
    },
    {
     "name": "stderr",
     "output_type": "stream",
     "text": [
      "/dataquest/system/env/python3/lib/python3.4/site-packages/ipykernel/__main__.py:2: SettingWithCopyWarning: \n",
      "A value is trying to be set on a copy of a slice from a DataFrame.\n",
      "Try using .loc[row_indexer,col_indexer] = value instead\n",
      "\n",
      "See the caveats in the documentation: http://pandas.pydata.org/pandas-docs/stable/indexing.html#indexing-view-versus-copy\n",
      "  from ipykernel import kernelapp as app\n",
      "/dataquest/system/env/python3/lib/python3.4/site-packages/ipykernel/__main__.py:3: SettingWithCopyWarning: \n",
      "A value is trying to be set on a copy of a slice from a DataFrame.\n",
      "Try using .loc[row_indexer,col_indexer] = value instead\n",
      "\n",
      "See the caveats in the documentation: http://pandas.pydata.org/pandas-docs/stable/indexing.html#indexing-view-versus-copy\n",
      "  app.launch_new_instance()\n"
     ]
    }
   ],
   "source": [
    "replace_dict = { \"YES\": 1, \"NO\": 0 }\n",
    "nominations[\"Won?\"] = nominations[\"Won?\"].map(replace_dict);\n",
    "nominations[\"Won\"] = nominations[\"Won?\"]\n",
    "\n",
    "print(nominations.head(3))"
   ]
  },
  {
   "cell_type": "code",
   "execution_count": 8,
   "metadata": {
    "collapsed": false
   },
   "outputs": [
    {
     "name": "stdout",
     "output_type": "stream",
     "text": [
      "   Year               Category          Nominee  \\\n",
      "0  2010  Actor -- Leading Role    Javier Bardem   \n",
      "1  2010  Actor -- Leading Role     Jeff Bridges   \n",
      "2  2010  Actor -- Leading Role  Jesse Eisenberg   \n",
      "\n",
      "                          Additional Info  Won  \n",
      "0                      Biutiful {'Uxbal'}    0  \n",
      "1           True Grit {'Rooster Cogburn'}    0  \n",
      "2  The Social Network {'Mark Zuckerberg'}    0  \n"
     ]
    }
   ],
   "source": [
    "drop_list = [\"Won?\", \"Unnamed: 5\", \"Unnamed: 6\", \"Unnamed: 7\", \"Unnamed: 8\", \"Unnamed: 9\", \"Unnamed: 10\"]\n",
    "final_nominations = nominations.drop(drop_list, axis=1)\n",
    "print(final_nominations.head(3))"
   ]
  },
  {
   "cell_type": "markdown",
   "metadata": {},
   "source": [
    "# clean additional info column"
   ]
  },
  {
   "cell_type": "code",
   "execution_count": 10,
   "metadata": {
    "collapsed": false
   },
   "outputs": [
    {
     "name": "stdout",
     "output_type": "stream",
     "text": [
      "0     Biutiful\n",
      "1    True Grit\n",
      "Name: Additional Info, dtype: object\n",
      "0              Uxbal\n",
      "1    Rooster Cogburn\n",
      "Name: Additional Info, dtype: object\n"
     ]
    }
   ],
   "source": [
    "additional_info_one = final_nominations[\"Additional Info\"].str.rstrip(\"'}\")\n",
    "additional_info_two = additional_info_one.str.split(\" {'\")\n",
    "movie_names = additional_info_two.str[0]\n",
    "characters = additional_info_two.str[1]\n",
    "\n",
    "print(movie_names.head(2))\n",
    "print(characters.head(2))\n"
   ]
  },
  {
   "cell_type": "code",
   "execution_count": 12,
   "metadata": {
    "collapsed": false
   },
   "outputs": [
    {
     "name": "stdout",
     "output_type": "stream",
     "text": [
      "   Year               Category        Nominee                Additional Info  \\\n",
      "0  2010  Actor -- Leading Role  Javier Bardem             Biutiful {'Uxbal'}   \n",
      "1  2010  Actor -- Leading Role   Jeff Bridges  True Grit {'Rooster Cogburn'}   \n",
      "\n",
      "   Won      Movie        Character  \n",
      "0    0   Biutiful            Uxbal  \n",
      "1    0  True Grit  Rooster Cogburn  \n"
     ]
    }
   ],
   "source": [
    "final_nominations[\"Movie\"] = movie_names\n",
    "final_nominations[\"Character\"] = characters\n",
    "\n",
    "print(final_nominations.head(2))"
   ]
  },
  {
   "cell_type": "code",
   "execution_count": 16,
   "metadata": {
    "collapsed": false
   },
   "outputs": [
    {
     "name": "stdout",
     "output_type": "stream",
     "text": [
      "   Year               Category        Nominee  Won      Movie        Character\n",
      "0  2010  Actor -- Leading Role  Javier Bardem    0   Biutiful            Uxbal\n",
      "1  2010  Actor -- Leading Role   Jeff Bridges    0  True Grit  Rooster Cogburn\n"
     ]
    }
   ],
   "source": [
    "final_nominations = final_nominations.drop([\"Additional Info\"], axis=1)\n",
    "print(final_nominations.head(2))"
   ]
  },
  {
   "cell_type": "markdown",
   "metadata": {},
   "source": [
    "# convert the df to db"
   ]
  },
  {
   "cell_type": "code",
   "execution_count": 17,
   "metadata": {
    "collapsed": true
   },
   "outputs": [],
   "source": [
    "import sqlite3 as sql\n",
    "conn = sql.connect(\"nominations.db\")\n",
    "\n",
    "final_nominations.to_sql(\"nominations\", conn, index=False);"
   ]
  },
  {
   "cell_type": "code",
   "execution_count": 19,
   "metadata": {
    "collapsed": false
   },
   "outputs": [
    {
     "name": "stdout",
     "output_type": "stream",
     "text": [
      "[(0, 'Year', 'INTEGER', 0, None, 0), (1, 'Category', 'TEXT', 0, None, 0), (2, 'Nominee', 'TEXT', 0, None, 0), (3, 'Won', 'INTEGER', 0, None, 0), (4, 'Movie', 'TEXT', 0, None, 0), (5, 'Character', 'TEXT', 0, None, 0)]\n",
      "[(2010, 'Actor -- Leading Role', 'Javier Bardem', 0, 'Biutiful', 'Uxbal'), (2010, 'Actor -- Leading Role', 'Jeff Bridges', 0, 'True Grit', 'Rooster Cogburn'), (2010, 'Actor -- Leading Role', 'Jesse Eisenberg', 0, 'The Social Network', 'Mark Zuckerberg'), (2010, 'Actor -- Leading Role', 'Colin Firth', 1, \"The King's Speech\", 'King George VI'), (2010, 'Actor -- Leading Role', 'James Franco', 0, '127 Hours', 'Aron Ralston'), (2010, 'Actor -- Supporting Role', 'Christian Bale', 1, 'The Fighter', 'Dicky Eklund'), (2010, 'Actor -- Supporting Role', 'John Hawkes', 0, \"Winter's Bone\", 'Teardrop'), (2010, 'Actor -- Supporting Role', 'Jeremy Renner', 0, 'The Town', 'James Coughlin'), (2010, 'Actor -- Supporting Role', 'Mark Ruffalo', 0, 'The Kids Are All Right', 'Paul'), (2010, 'Actor -- Supporting Role', 'Geoffrey Rush', 0, \"The King's Speech\", 'Lionel Logue')]\n"
     ]
    }
   ],
   "source": [
    "query = '''\n",
    "pragma table_info(nominations);\n",
    "'''\n",
    "print(conn.execute(query).fetchall())\n",
    "\n",
    "query = '''\n",
    "select * from nominations\n",
    "limit 10;\n",
    "'''\n",
    "\n",
    "print(conn.execute(query).fetchall())"
   ]
  }
 ],
 "metadata": {
  "kernelspec": {
   "display_name": "Python 3",
   "language": "python",
   "name": "python3"
  },
  "language_info": {
   "codemirror_mode": {
    "name": "ipython",
    "version": 3
   },
   "file_extension": ".py",
   "mimetype": "text/x-python",
   "name": "python",
   "nbconvert_exporter": "python",
   "pygments_lexer": "ipython3",
   "version": "3.4.3"
  }
 },
 "nbformat": 4,
 "nbformat_minor": 0
}
